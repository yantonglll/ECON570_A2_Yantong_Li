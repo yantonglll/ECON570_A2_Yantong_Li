{
 "cells": [
  {
   "cell_type": "markdown",
   "id": "2140d5d7",
   "metadata": {},
   "source": [
    "## ECON 570 \n",
    "## Assignment 2\n",
    "## Instructor: Ida Johnsson\n",
    "## Name: Yantong Li"
   ]
  },
  {
   "cell_type": "markdown",
   "id": "b7257f92",
   "metadata": {},
   "source": [
    "### 1. Simulate a DGP where the outcome of interest depends on a randomly assigned treatment and some observed covariates. How does your estimate of the treatment effect parameter compare in the following two cases\n",
    "#### a. You do not control for any covariates\n",
    "#### b. You control for all the covariates that affect the outcome"
   ]
  },
  {
   "cell_type": "code",
   "execution_count": 51,
   "id": "62c327cf",
   "metadata": {},
   "outputs": [],
   "source": [
    "import pandas as pd\n",
    "import numpy as np\n",
    "import statsmodels.api as sm\n",
    "import matplotlib.pyplot as plt\n",
    "import random\n",
    "from tqdm import tqdm\n",
    "import graphviz as gr\n",
    "import statsmodels.formula.api as smf"
   ]
  },
  {
   "cell_type": "markdown",
   "id": "26189e27",
   "metadata": {},
   "source": [
    "### a. You do not control for any covariates"
   ]
  },
  {
   "cell_type": "markdown",
   "id": "a197e868",
   "metadata": {},
   "source": [
    "#### suppose our model is the following:\n",
    "$Y_i = a*T_i+e_i$, where $e_i \\sim N(0,\\sigma^2)$\n",
    "\n",
    "$a$ is the treatment effect, and treatment takes values 0 if not receiving it or 1 if receiving it."
   ]
  },
  {
   "cell_type": "markdown",
   "id": "13eee342",
   "metadata": {},
   "source": [
    "### simulate the DGP:"
   ]
  },
  {
   "cell_type": "code",
   "execution_count": 328,
   "id": "762dd52c",
   "metadata": {},
   "outputs": [],
   "source": [
    "def fn_generate_cov(dim):\n",
    "    acc  = []\n",
    "    for i in range(dim):\n",
    "        row = np.ones((1,dim)) * corr\n",
    "        row[0][i] = 1\n",
    "        acc.append(row)\n",
    "    return np.concatenate(acc,axis=0)\n",
    "\n",
    "def fn_generate_multnorm(nobs,corr,nvar):\n",
    "\n",
    "    mu = np.zeros(nvar)\n",
    "    std = (np.abs(np.random.normal(loc = 1, scale = .5,size = (nvar,1))))**(1/2)\n",
    "    # generate random normal distribution\n",
    "    acc = []\n",
    "    for i in range(nvar):\n",
    "        acc.append(np.reshape(np.random.normal(mu[i],std[i],nobs),(nobs,-1)))\n",
    "    \n",
    "    normvars = np.concatenate(acc,axis=1)\n",
    "\n",
    "    cov = fn_generate_cov(nvar)\n",
    "    C = np.linalg.cholesky(cov)\n",
    "\n",
    "    Y = np.transpose(np.dot(C,np.transpose(normvars)))\n",
    "\n",
    "    return Y\n",
    "\n",
    "def fn_generate_data(a,N,p,p0,corr,conf = True,flagX = False):\n",
    "    \n",
    "    nvar = p+2\n",
    "    corr = 0.5 \n",
    "\n",
    "    if conf==False:\n",
    "        conf_mult = 0 \n",
    "    else:\n",
    "        conf_mult = 1\n",
    "        \n",
    "    allX = fn_generate_multnorm(N,corr,nvar)\n",
    "    W0 = allX[:,0].reshape([N,1]) \n",
    "    C = allX[:,1].reshape([N,1]) \n",
    "    X = allX[:,2:] \n",
    "    \n",
    "    T = fn_randomize_treatment(N) \n",
    "    err = np.random.normal(0,1,[N,1])\n",
    "    beta0 = np.random.normal(5,5,[p,1])\n",
    "    \n",
    "    beta0[p0:p] = 0\n",
    "    Yab = a*T+X@beta0+conf_mult*0.6*C+err\n",
    "    if flagX==False:\n",
    "        return (Yab,T)\n",
    "    else:\n",
    "        return (Yab,T,X)\n",
    "\n",
    "def fn_randomize_treatment(N,p=0.5):\n",
    "    \n",
    "    treated = random.sample(range(N), round(N*p))\n",
    "    return np.array([(1 if i in treated else 0) for i in range(N)]).reshape([N,1])\n",
    "\n",
    "def fn_ahat_means(Yt,Yc):\n",
    "    nt = len(Yt)\n",
    "    nc = len(Yc)\n",
    "    ahat = np.mean(Yt)-np.mean(Yc)\n",
    "    se_ahat = (np.var(Yt,ddof=1)/nt+np.var(Yc,ddof=1)/nc)**(1/2)\n",
    "    return (ahat,se_ahat)\n",
    "\n",
    "def fn_run_experiments(a,Nrange,p,p0,corr,conf,flagX=False):\n",
    "    n_values = []\n",
    "    ahats = []\n",
    "    sehats = []\n",
    "    lb = []\n",
    "    ub = []\n",
    "    for N in tqdm(Nrange):\n",
    "        n_values = n_values + [N]\n",
    "        if flagX==False:\n",
    "            Yexp,T = fn_generate_data(a,N,p,p0,corr,conf,flagX)\n",
    "            Yt = Yexp[np.where(T==1)[0],:]\n",
    "            Yc = Yexp[np.where(T==0)[0],:]\n",
    "            ahat,se_ahat = fn_ahat_means(Yt,Yc)            \n",
    "        elif flagX==1:\n",
    "            \n",
    "            Yexp,T,X = fn_generate_data(a,N,p,p0,corr,conf,flagX)\n",
    "            Xobs = X[:,:p0]\n",
    "            covars = np.concatenate([T,Xobs],axis = 1)\n",
    "            mod = sm.OLS(Yexp,covars)\n",
    "            res = mod.fit()\n",
    "            ahat = res.params[0]\n",
    "            se_ahat = res.HC1_se[0]\n",
    "        elif flagX==2:\n",
    "            \n",
    "            Yexp,T,X = fn_generate_data(a,N,p,p0,corr,conf,flagX)\n",
    "            Xobs1 = X[:,:np.int(p0/2)]\n",
    "            Xobs2 = X[:,-np.int(p0/2):]\n",
    "            covars = np.concatenate([T,Xobs1,Xobs2],axis = 1)\n",
    "            mod = sm.OLS(Yexp,covars)\n",
    "            res = mod.fit()\n",
    "            ahat = res.params[0]\n",
    "            se_ahat = res.HC1_se[0]\n",
    "            \n",
    "        ahats = ahats + [ahat]\n",
    "        sehats = sehats + [se_ahat]    \n",
    "        lb = lb + [ahat-1.96*se_ahat]\n",
    "        ub = ub + [ahat+1.96*se_ahat]\n",
    "        \n",
    "    return (n_values,ahats,sehats,lb,ub)\n",
    "\n",
    "def fn_bias_rmse_size(theta0,thetahat,se_thetahat,cval = 1.96):\n",
    "    \"\"\"\n",
    "    theta0 - true parameter value\n",
    "    thetatahat - estimated parameter value\n",
    "    se_thetahat - estiamted se of thetahat\n",
    "    \n",
    "    \"\"\"\n",
    "    b = thetahat - theta0\n",
    "    bias = np.mean(b)\n",
    "    rmse = np.sqrt(np.mean(b**2))\n",
    "    tval = b/se_thetahat \n",
    "    size = np.mean(1*(np.abs(tval)>cval))\n",
    "    return (bias,rmse,size)"
   ]
  },
  {
   "cell_type": "code",
   "execution_count": 3,
   "id": "bc7f99c1",
   "metadata": {},
   "outputs": [],
   "source": [
    "# Simulate the DGP\n",
    "\n",
    "a = 3\n",
    "corr = .5\n",
    "conf=False # No confounders\n",
    "p = 10\n",
    "p0 = 0 # number of covariates used in the DGP\n"
   ]
  },
  {
   "cell_type": "code",
   "execution_count": 4,
   "id": "3443b953",
   "metadata": {},
   "outputs": [],
   "source": [
    "np.random.seed(24)\n",
    "N = 100\n",
    "Yexp,T = fn_generate_data(a,N,10,0,corr,conf = False)\n",
    "Yt = Yexp[np.where(T==1)[0],:]\n",
    "Yc = Yexp[np.where(T==0)[0],:]\n",
    "ahat,se_ahat = fn_ahat_means(Yt,Yc)"
   ]
  },
  {
   "cell_type": "code",
   "execution_count": 5,
   "id": "bb4d49dc",
   "metadata": {},
   "outputs": [
    {
     "data": {
      "text/plain": [
       "(2.955725876113058, 0.17853876671619115)"
      ]
     },
     "execution_count": 5,
     "metadata": {},
     "output_type": "execute_result"
    }
   ],
   "source": [
    "ahat,se_ahat"
   ]
  },
  {
   "cell_type": "code",
   "execution_count": 6,
   "id": "0e51ec9a",
   "metadata": {},
   "outputs": [],
   "source": [
    "const = np.ones([N,1])"
   ]
  },
  {
   "cell_type": "code",
   "execution_count": 7,
   "id": "ea9d1d9b",
   "metadata": {
    "scrolled": false
   },
   "outputs": [
    {
     "name": "stdout",
     "output_type": "stream",
     "text": [
      "                            OLS Regression Results                            \n",
      "==============================================================================\n",
      "Dep. Variable:                      y   R-squared:                       0.737\n",
      "Model:                            OLS   Adj. R-squared:                  0.734\n",
      "Method:                 Least Squares   F-statistic:                     274.1\n",
      "Date:                Tue, 05 Apr 2022   Prob (F-statistic):           3.80e-30\n",
      "Time:                        13:46:39   Log-Likelihood:                -129.53\n",
      "No. Observations:                 100   AIC:                             263.1\n",
      "Df Residuals:                      98   BIC:                             268.3\n",
      "Df Model:                           1                                         \n",
      "Covariance Type:            nonrobust                                         \n",
      "==============================================================================\n",
      "                 coef    std err          t      P>|t|      [0.025      0.975]\n",
      "------------------------------------------------------------------------------\n",
      "x1             2.9557      0.179     16.555      0.000       2.601       3.310\n",
      "const         -0.0012      0.126     -0.009      0.993      -0.252       0.249\n",
      "==============================================================================\n",
      "Omnibus:                        1.042   Durbin-Watson:                   2.012\n",
      "Prob(Omnibus):                  0.594   Jarque-Bera (JB):                1.003\n",
      "Skew:                          -0.075   Prob(JB):                        0.606\n",
      "Kurtosis:                       2.533   Cond. No.                         2.62\n",
      "==============================================================================\n",
      "\n",
      "Notes:\n",
      "[1] Standard Errors assume that the covariance matrix of the errors is correctly specified.\n"
     ]
    },
    {
     "data": {
      "text/plain": [
       "(2.955725876113057, 0.17853876671619118)"
      ]
     },
     "execution_count": 7,
     "metadata": {},
     "output_type": "execute_result"
    }
   ],
   "source": [
    "model = sm.OLS(Yexp,np.concatenate([T,const],axis = 1))\n",
    "res = model.fit()\n",
    "# res.summary()\n",
    "print(res.summary())\n",
    "res.params[0], res.HC1_se[0]"
   ]
  },
  {
   "cell_type": "markdown",
   "id": "f7a95459",
   "metadata": {},
   "source": [
    "From above, we can see that when you just run the experiment once, the estimated coefficient could be misleading because when the noise contained in $e_i$ is big, we cannot tell whether the estimated coefficient is a good one or not. Therefore, we need to run a Monte Carlo simulation to see the distribution of estimated parameters and tell whether the model produces good enough estimation."
   ]
  },
  {
   "cell_type": "markdown",
   "id": "3d3eb14d",
   "metadata": {},
   "source": [
    "### Running a Monte Carlo simulation:"
   ]
  },
  {
   "cell_type": "code",
   "execution_count": 8,
   "id": "fdb8b597",
   "metadata": {},
   "outputs": [
    {
     "name": "stderr",
     "output_type": "stream",
     "text": [
      "100%|█████████████████████████████████████| 2000/2000 [00:01<00:00, 1515.88it/s]\n",
      "100%|██████████████████████████████████████| 2000/2000 [00:14<00:00, 139.93it/s]\n"
     ]
    }
   ],
   "source": [
    "# Running a Monte Carlo simulation:\n",
    "\n",
    "estDict = {}\n",
    "R = 2000\n",
    "for N in [100,1000]:\n",
    "    ahats = []\n",
    "    sehats = []\n",
    "    for r in tqdm(range(R)):\n",
    "        Yexp,T = fn_generate_data(a,N,10,0,corr,conf)\n",
    "        Yt = Yexp[np.where(T==1)[0],:]\n",
    "        Yc = Yexp[np.where(T==0)[0],:]\n",
    "        ahat,se_ahat = fn_ahat_means(Yt,Yc)\n",
    "        ahats = ahats + [ahat]\n",
    "        sehats = sehats + [se_ahat]\n",
    "    estDict[N] = {\n",
    "        'ahat':np.array(ahats).reshape([len(ahats),1]),\n",
    "        'sehat':np.array(sehats).reshape([len(sehats),1])\n",
    "        \n",
    "    }"
   ]
  },
  {
   "cell_type": "code",
   "execution_count": 9,
   "id": "fcf133f1",
   "metadata": {
    "scrolled": true
   },
   "outputs": [
    {
     "name": "stdout",
     "output_type": "stream",
     "text": [
      "N=100: bias=0.0003473142311447819, RMSE=0.2009536478523862, size=0.0575\n",
      "N=1000: bias=0.00023021966964751806, RMSE=0.06341891750439807, size=0.054\n"
     ]
    }
   ],
   "source": [
    "a0 = a*np.ones([R,1])\n",
    "for N, results in estDict.items():\n",
    "    (bias,rmse,size) = fn_bias_rmse_size(a0,results['ahat'],\n",
    "                                         results['sehat'])\n",
    "    print(f'N={N}: bias={bias}, RMSE={rmse}, size={size}')"
   ]
  },
  {
   "cell_type": "markdown",
   "id": "685a521f",
   "metadata": {},
   "source": [
    "### DAG to illustrate the DGP:"
   ]
  },
  {
   "cell_type": "code",
   "execution_count": 10,
   "id": "d890bdae",
   "metadata": {},
   "outputs": [
    {
     "data": {
      "image/svg+xml": [
       "<?xml version=\"1.0\" encoding=\"UTF-8\" standalone=\"no\"?>\n",
       "<!DOCTYPE svg PUBLIC \"-//W3C//DTD SVG 1.1//EN\"\n",
       " \"http://www.w3.org/Graphics/SVG/1.1/DTD/svg11.dtd\">\n",
       "<!-- Generated by graphviz version 2.50.0 (20211204.2007)\n",
       " -->\n",
       "<!-- Pages: 1 -->\n",
       "<svg width=\"96pt\" height=\"116pt\"\n",
       " viewBox=\"0.00 0.00 96.39 116.00\" xmlns=\"http://www.w3.org/2000/svg\" xmlns:xlink=\"http://www.w3.org/1999/xlink\">\n",
       "<g id=\"graph0\" class=\"graph\" transform=\"scale(1 1) rotate(0) translate(4 112)\">\n",
       "<polygon fill=\"white\" stroke=\"transparent\" points=\"-4,4 -4,-112 92.39,-112 92.39,4 -4,4\"/>\n",
       "<!-- treatment -->\n",
       "<g id=\"node1\" class=\"node\">\n",
       "<title>treatment</title>\n",
       "<ellipse fill=\"none\" stroke=\"black\" cx=\"44.2\" cy=\"-90\" rx=\"44.39\" ry=\"18\"/>\n",
       "<text text-anchor=\"middle\" x=\"44.2\" y=\"-86.3\" font-family=\"Times,serif\" font-size=\"14.00\">treatment</text>\n",
       "</g>\n",
       "<!-- outcome -->\n",
       "<g id=\"node2\" class=\"node\">\n",
       "<title>outcome</title>\n",
       "<ellipse fill=\"none\" stroke=\"black\" cx=\"44.2\" cy=\"-18\" rx=\"41.69\" ry=\"18\"/>\n",
       "<text text-anchor=\"middle\" x=\"44.2\" y=\"-14.3\" font-family=\"Times,serif\" font-size=\"14.00\">outcome</text>\n",
       "</g>\n",
       "<!-- treatment&#45;&gt;outcome -->\n",
       "<g id=\"edge1\" class=\"edge\">\n",
       "<title>treatment&#45;&gt;outcome</title>\n",
       "<path fill=\"none\" stroke=\"black\" d=\"M44.2,-71.7C44.2,-63.98 44.2,-54.71 44.2,-46.11\"/>\n",
       "<polygon fill=\"black\" stroke=\"black\" points=\"47.7,-46.1 44.2,-36.1 40.7,-46.1 47.7,-46.1\"/>\n",
       "</g>\n",
       "</g>\n",
       "</svg>\n"
      ],
      "text/plain": [
       "<graphviz.graphs.Digraph at 0x7fbbca301be0>"
      ]
     },
     "execution_count": 10,
     "metadata": {},
     "output_type": "execute_result"
    }
   ],
   "source": [
    "g = gr.Digraph()\n",
    "\n",
    "g.edge(\"treatment\", \"outcome\")\n",
    "g"
   ]
  },
  {
   "cell_type": "markdown",
   "id": "6fdda119",
   "metadata": {},
   "source": [
    "### real-life situation that might be consistent with the DGP:\n",
    "For example, there is a randomly assigned employment training program that we want to investigate its effect on unemployment rate. Suppose T = 1 is someone participating in the program and T = 0 is not. As we run a regression of employment training program on unemployment rate, we can find the coefficient of employment training program as the treatment effect."
   ]
  },
  {
   "cell_type": "markdown",
   "id": "86cc2caf",
   "metadata": {},
   "source": [
    "### b. You control for all the covariates that affect the outcome"
   ]
  },
  {
   "cell_type": "markdown",
   "id": "95eadd55",
   "metadata": {},
   "source": [
    "#### suppose our model is the following:\n",
    "$y_i = a*T_i+\\beta'*x_i+e_i$, where $e_i \\sim N(0,\\sigma^2)$\n",
    "\n",
    "$a$ is the treatment effect, treatment takes values 0 or 1, and now we have covariate $x_i$ and its coefficient is $\\beta'$"
   ]
  },
  {
   "cell_type": "markdown",
   "id": "2d0f317e",
   "metadata": {},
   "source": [
    "### simulate the DGP:"
   ]
  },
  {
   "cell_type": "code",
   "execution_count": 11,
   "id": "41d43453",
   "metadata": {},
   "outputs": [
    {
     "name": "stderr",
     "output_type": "stream",
     "text": [
      "100%|█████████████████████████████████████████| 450/450 [00:05<00:00, 75.94it/s]\n"
     ]
    }
   ],
   "source": [
    "# Simulate the DGP\n",
    "\n",
    "a = 3\n",
    "corr = .5\n",
    "conf=False\n",
    "p = 100\n",
    "p0 = 50 # number of covariates used in the DGP\n",
    "Nrange = range(100,1000,2) \n",
    "flagX = 1\n",
    "(nvalues2,ahats2,sehats2,lb2,ub2) = fn_run_experiments(a,Nrange,p,p0,corr,conf,flagX)\n"
   ]
  },
  {
   "cell_type": "code",
   "execution_count": 12,
   "id": "2d108992",
   "metadata": {},
   "outputs": [],
   "source": [
    "np.random.seed(24)\n",
    "N = 100\n",
    "Yexp,T = fn_generate_data(a,N,10,0,corr,conf = False)\n",
    "Yt = Yexp[np.where(T==1)[0],:]\n",
    "Yc = Yexp[np.where(T==0)[0],:]\n",
    "ahat,se_ahat = fn_ahat_means(Yt,Yc)"
   ]
  },
  {
   "cell_type": "code",
   "execution_count": 13,
   "id": "980c09d6",
   "metadata": {},
   "outputs": [
    {
     "data": {
      "text/plain": [
       "(2.9123216622596577, 0.17837502475579603)"
      ]
     },
     "execution_count": 13,
     "metadata": {},
     "output_type": "execute_result"
    }
   ],
   "source": [
    "ahat,se_ahat"
   ]
  },
  {
   "cell_type": "code",
   "execution_count": 14,
   "id": "94460829",
   "metadata": {},
   "outputs": [],
   "source": [
    "const = np.ones([N,1])"
   ]
  },
  {
   "cell_type": "code",
   "execution_count": 15,
   "id": "eb201504",
   "metadata": {
    "scrolled": true
   },
   "outputs": [
    {
     "name": "stdout",
     "output_type": "stream",
     "text": [
      "                            OLS Regression Results                            \n",
      "==============================================================================\n",
      "Dep. Variable:                      y   R-squared:                       0.731\n",
      "Model:                            OLS   Adj. R-squared:                  0.728\n",
      "Method:                 Least Squares   F-statistic:                     266.6\n",
      "Date:                Tue, 05 Apr 2022   Prob (F-statistic):           1.03e-29\n",
      "Time:                        13:47:02   Log-Likelihood:                -129.44\n",
      "No. Observations:                 100   AIC:                             262.9\n",
      "Df Residuals:                      98   BIC:                             268.1\n",
      "Df Model:                           1                                         \n",
      "Covariance Type:            nonrobust                                         \n",
      "==============================================================================\n",
      "                 coef    std err          t      P>|t|      [0.025      0.975]\n",
      "------------------------------------------------------------------------------\n",
      "x1             2.9123      0.178     16.327      0.000       2.558       3.266\n",
      "const          0.0205      0.126      0.163      0.871      -0.230       0.271\n",
      "==============================================================================\n",
      "Omnibus:                        0.817   Durbin-Watson:                   2.034\n",
      "Prob(Omnibus):                  0.665   Jarque-Bera (JB):                0.879\n",
      "Skew:                          -0.092   Prob(JB):                        0.644\n",
      "Kurtosis:                       2.579   Cond. No.                         2.62\n",
      "==============================================================================\n",
      "\n",
      "Notes:\n",
      "[1] Standard Errors assume that the covariance matrix of the errors is correctly specified.\n"
     ]
    },
    {
     "data": {
      "text/plain": [
       "(2.912321662259658, 0.17837502475579603)"
      ]
     },
     "execution_count": 15,
     "metadata": {},
     "output_type": "execute_result"
    }
   ],
   "source": [
    "model = sm.OLS(Yexp,np.concatenate([T,const],axis = 1))\n",
    "res = model.fit()\n",
    "# res.summary()\n",
    "print(res.summary())\n",
    "res.params[0], res.HC1_se[0]"
   ]
  },
  {
   "cell_type": "markdown",
   "id": "1a69dd63",
   "metadata": {},
   "source": [
    "### Running a Monte Carlo simulation:"
   ]
  },
  {
   "cell_type": "code",
   "execution_count": 16,
   "id": "211a030b",
   "metadata": {},
   "outputs": [
    {
     "name": "stderr",
     "output_type": "stream",
     "text": [
      "100%|█████████████████████████████████████| 2000/2000 [00:01<00:00, 1382.72it/s]\n",
      "100%|██████████████████████████████████████| 2000/2000 [00:15<00:00, 129.35it/s]\n"
     ]
    }
   ],
   "source": [
    "# Running a Monte Carlo simulation:\n",
    "\n",
    "estDict = {}\n",
    "R = 2000\n",
    "for N in [100,1000]:\n",
    "    ahats = []\n",
    "    sehats = []\n",
    "    for r in tqdm(range(R)):\n",
    "        Yexp,T = fn_generate_data(a,N,10,0,corr,conf)\n",
    "        Yt = Yexp[np.where(T==1)[0],:]\n",
    "        Yc = Yexp[np.where(T==0)[0],:]\n",
    "        ahat,se_ahat = fn_ahat_means(Yt,Yc)\n",
    "        ahats = ahats + [ahat]\n",
    "        sehats = sehats + [se_ahat]\n",
    "    estDict[N] = {\n",
    "        'ahat':np.array(ahats).reshape([len(ahats),1]),\n",
    "        'sehat':np.array(sehats).reshape([len(sehats),1])\n",
    "        \n",
    "    }"
   ]
  },
  {
   "cell_type": "code",
   "execution_count": 17,
   "id": "6156d205",
   "metadata": {
    "scrolled": true
   },
   "outputs": [
    {
     "name": "stdout",
     "output_type": "stream",
     "text": [
      "N=100: bias=0.0006431858511456492, RMSE=0.20431044407726498, size=0.063\n",
      "N=1000: bias=0.0005962154582255686, RMSE=0.061963264053890944, size=0.0505\n"
     ]
    }
   ],
   "source": [
    "a0 = a*np.ones([R,1])\n",
    "for N, results in estDict.items():\n",
    "    (bias,rmse,size) = fn_bias_rmse_size(a0,results['ahat'],\n",
    "                                         results['sehat'])\n",
    "    print(f'N={N}: bias={bias}, RMSE={rmse}, size={size}')"
   ]
  },
  {
   "cell_type": "markdown",
   "id": "a3daa851",
   "metadata": {},
   "source": [
    "including covariates that affect the outcome Y improves precision of the estimate because as we control for more reasonable variables, we are able to discover the true estimate of the treatment effect without confounding factors."
   ]
  },
  {
   "cell_type": "markdown",
   "id": "2b1dec93",
   "metadata": {},
   "source": [
    "### DAG to illustrate the DGP:"
   ]
  },
  {
   "cell_type": "code",
   "execution_count": 18,
   "id": "acc20915",
   "metadata": {},
   "outputs": [
    {
     "data": {
      "image/svg+xml": [
       "<?xml version=\"1.0\" encoding=\"UTF-8\" standalone=\"no\"?>\n",
       "<!DOCTYPE svg PUBLIC \"-//W3C//DTD SVG 1.1//EN\"\n",
       " \"http://www.w3.org/Graphics/SVG/1.1/DTD/svg11.dtd\">\n",
       "<!-- Generated by graphviz version 2.50.0 (20211204.2007)\n",
       " -->\n",
       "<!-- Pages: 1 -->\n",
       "<svg width=\"460pt\" height=\"116pt\"\n",
       " viewBox=\"0.00 0.00 459.54 116.00\" xmlns=\"http://www.w3.org/2000/svg\" xmlns:xlink=\"http://www.w3.org/1999/xlink\">\n",
       "<g id=\"graph0\" class=\"graph\" transform=\"scale(1 1) rotate(0) translate(4 112)\">\n",
       "<polygon fill=\"white\" stroke=\"transparent\" points=\"-4,4 -4,-112 455.54,-112 455.54,4 -4,4\"/>\n",
       "<!-- treatment -->\n",
       "<g id=\"node1\" class=\"node\">\n",
       "<title>treatment</title>\n",
       "<ellipse fill=\"none\" stroke=\"black\" cx=\"44.2\" cy=\"-90\" rx=\"44.39\" ry=\"18\"/>\n",
       "<text text-anchor=\"middle\" x=\"44.2\" y=\"-86.3\" font-family=\"Times,serif\" font-size=\"14.00\">treatment</text>\n",
       "</g>\n",
       "<!-- outcome -->\n",
       "<g id=\"node2\" class=\"node\">\n",
       "<title>outcome</title>\n",
       "<ellipse fill=\"none\" stroke=\"black\" cx=\"218.2\" cy=\"-18\" rx=\"41.69\" ry=\"18\"/>\n",
       "<text text-anchor=\"middle\" x=\"218.2\" y=\"-14.3\" font-family=\"Times,serif\" font-size=\"14.00\">outcome</text>\n",
       "</g>\n",
       "<!-- treatment&#45;&gt;outcome -->\n",
       "<g id=\"edge1\" class=\"edge\">\n",
       "<title>treatment&#45;&gt;outcome</title>\n",
       "<path fill=\"none\" stroke=\"black\" d=\"M74.5,-76.81C103.62,-65.09 147.75,-47.34 179.42,-34.6\"/>\n",
       "<polygon fill=\"black\" stroke=\"black\" points=\"180.84,-37.8 188.81,-30.82 178.23,-31.31 180.84,-37.8\"/>\n",
       "</g>\n",
       "<!-- covariate A -->\n",
       "<g id=\"node3\" class=\"node\">\n",
       "<title>covariate A</title>\n",
       "<ellipse fill=\"none\" stroke=\"black\" cx=\"158.2\" cy=\"-90\" rx=\"51.19\" ry=\"18\"/>\n",
       "<text text-anchor=\"middle\" x=\"158.2\" y=\"-86.3\" font-family=\"Times,serif\" font-size=\"14.00\">covariate A</text>\n",
       "</g>\n",
       "<!-- covariate A&#45;&gt;outcome -->\n",
       "<g id=\"edge2\" class=\"edge\">\n",
       "<title>covariate A&#45;&gt;outcome</title>\n",
       "<path fill=\"none\" stroke=\"black\" d=\"M172.42,-72.41C179.89,-63.69 189.19,-52.85 197.45,-43.21\"/>\n",
       "<polygon fill=\"black\" stroke=\"black\" points=\"200.23,-45.34 204.08,-35.47 194.91,-40.78 200.23,-45.34\"/>\n",
       "</g>\n",
       "<!-- covariate B -->\n",
       "<g id=\"node4\" class=\"node\">\n",
       "<title>covariate B</title>\n",
       "<ellipse fill=\"none\" stroke=\"black\" cx=\"279.2\" cy=\"-90\" rx=\"51.19\" ry=\"18\"/>\n",
       "<text text-anchor=\"middle\" x=\"279.2\" y=\"-86.3\" font-family=\"Times,serif\" font-size=\"14.00\">covariate B</text>\n",
       "</g>\n",
       "<!-- covariate B&#45;&gt;outcome -->\n",
       "<g id=\"edge3\" class=\"edge\">\n",
       "<title>covariate B&#45;&gt;outcome</title>\n",
       "<path fill=\"none\" stroke=\"black\" d=\"M264.74,-72.41C257.03,-63.57 247.42,-52.53 238.93,-42.79\"/>\n",
       "<polygon fill=\"black\" stroke=\"black\" points=\"241.34,-40.23 232.13,-34.99 236.06,-44.83 241.34,-40.23\"/>\n",
       "</g>\n",
       "<!-- covariate C -->\n",
       "<g id=\"node5\" class=\"node\">\n",
       "<title>covariate C</title>\n",
       "<ellipse fill=\"none\" stroke=\"black\" cx=\"400.2\" cy=\"-90\" rx=\"51.19\" ry=\"18\"/>\n",
       "<text text-anchor=\"middle\" x=\"400.2\" y=\"-86.3\" font-family=\"Times,serif\" font-size=\"14.00\">covariate C</text>\n",
       "</g>\n",
       "<!-- covariate C&#45;&gt;outcome -->\n",
       "<g id=\"edge4\" class=\"edge\">\n",
       "<title>covariate C&#45;&gt;outcome</title>\n",
       "<path fill=\"none\" stroke=\"black\" d=\"M366.81,-76.16C336.12,-64.36 290.58,-46.84 258.01,-34.31\"/>\n",
       "<polygon fill=\"black\" stroke=\"black\" points=\"258.94,-30.92 248.35,-30.6 256.42,-37.45 258.94,-30.92\"/>\n",
       "</g>\n",
       "</g>\n",
       "</svg>\n"
      ],
      "text/plain": [
       "<graphviz.graphs.Digraph at 0x7fbbca7c92e0>"
      ]
     },
     "execution_count": 18,
     "metadata": {},
     "output_type": "execute_result"
    }
   ],
   "source": [
    "g = gr.Digraph()\n",
    "\n",
    "g.edge(\"treatment\", \"outcome\")\n",
    "g.edge(\"covariate A\", \"outcome\")\n",
    "g.edge(\"covariate B\", \"outcome\")\n",
    "g.edge(\"covariate C\", \"outcome\")\n",
    "\n",
    "g"
   ]
  },
  {
   "cell_type": "markdown",
   "id": "724e29df",
   "metadata": {},
   "source": [
    "### real-life situation that might be consistent with the DGP:\n",
    "Using the previous example, there is a randomly assigned employment training program that we want to investigate its effect on unemployment rate. Suppose 1 is someone participating in the program and 0 is not. As we include in the regression some covariates that do affect the outcome of interest, such as family background, age, willingness to learn, we can be more accurate in the estimate of the treatment effect because we now control for useful covariates that help explain the outcome and reduce the variance of the estimation."
   ]
  },
  {
   "cell_type": "markdown",
   "id": "890da42b",
   "metadata": {},
   "source": [
    "### 2. Simulate a DGP with a confounder (common cause)\n",
    "#### a. You fail to control for the confounder\n",
    "#### b. You do control for the confounder"
   ]
  },
  {
   "cell_type": "markdown",
   "id": "5a479446",
   "metadata": {},
   "source": [
    "### a. You fail to control for the confounder"
   ]
  },
  {
   "cell_type": "markdown",
   "id": "e0b6d01f",
   "metadata": {},
   "source": [
    "#### suppose the model looks like this: \n",
    "$Y_i = a + b*T_i+e_i$, where $e_i \\sim N(0,\\sigma^2)$"
   ]
  },
  {
   "cell_type": "markdown",
   "id": "216a2412",
   "metadata": {},
   "source": [
    "Suppose we are investigating the effect of job training program on days for people to find a job. We expect to find a negative relationship between the program and days to find a job. Let's consider the scenario in 2 job training program schools, and suppose in the first school, 90% of students receive the program at random and 10% don't; in the second school, the inverse is true. It is also known that the school which gives 90% of students the job training program usually contains more people that are incapable of finding a job at the first place (lower education levels, coming from lower income families, etc.). "
   ]
  },
  {
   "cell_type": "markdown",
   "id": "3c78d556",
   "metadata": {},
   "source": [
    "#### first we simulate a DGP: \n",
    "\n",
    "where:\n",
    "\n",
    "school is the variable indicating what school the student is coming from \n",
    "\n",
    "treatment is the job training program\n",
    "\n",
    "ability is the students' ability to find a job without the program\n",
    "\n",
    "days is the days people find a job"
   ]
  },
  {
   "cell_type": "code",
   "execution_count": 61,
   "id": "488be241",
   "metadata": {},
   "outputs": [],
   "source": [
    "np.random.seed(24)\n",
    "n = 80\n",
    "\n",
    "school = np.random.binomial(1, 0.5, n)\n",
    "\n",
    "treatment = np.where(school.astype(bool),\n",
    "                     np.random.binomial(1, 0.9, n),\n",
    "                     np.random.binomial(1, 0.1, n))\n",
    "\n",
    "ability = np.where(school.astype(bool), \n",
    "                    np.random.normal(25, 7, n),\n",
    "                    np.random.normal(20, 7, n))\n",
    "\n",
    "days = np.random.normal(10 + -3*treatment + 1*ability, 7).astype(int)\n",
    "\n",
    "school = pd.DataFrame(dict(school=school,\n",
    "                             treatment=treatment,\n",
    "                             ability=ability,\n",
    "                             days=days))\n",
    "\n",
    "school.to_csv(\"school_treatment.csv\", index=False)"
   ]
  },
  {
   "cell_type": "code",
   "execution_count": 62,
   "id": "ec64d5cd",
   "metadata": {},
   "outputs": [
    {
     "data": {
      "text/html": [
       "<div>\n",
       "<style scoped>\n",
       "    .dataframe tbody tr th:only-of-type {\n",
       "        vertical-align: middle;\n",
       "    }\n",
       "\n",
       "    .dataframe tbody tr th {\n",
       "        vertical-align: top;\n",
       "    }\n",
       "\n",
       "    .dataframe thead th {\n",
       "        text-align: right;\n",
       "    }\n",
       "</style>\n",
       "<table border=\"1\" class=\"dataframe\">\n",
       "  <thead>\n",
       "    <tr style=\"text-align: right;\">\n",
       "      <th></th>\n",
       "      <th>school</th>\n",
       "      <th>treatment</th>\n",
       "      <th>ability</th>\n",
       "      <th>days</th>\n",
       "    </tr>\n",
       "  </thead>\n",
       "  <tbody>\n",
       "    <tr>\n",
       "      <th>0</th>\n",
       "      <td>1</td>\n",
       "      <td>1</td>\n",
       "      <td>38.561265</td>\n",
       "      <td>58</td>\n",
       "    </tr>\n",
       "    <tr>\n",
       "      <th>1</th>\n",
       "      <td>1</td>\n",
       "      <td>1</td>\n",
       "      <td>25.070476</td>\n",
       "      <td>39</td>\n",
       "    </tr>\n",
       "    <tr>\n",
       "      <th>2</th>\n",
       "      <td>1</td>\n",
       "      <td>1</td>\n",
       "      <td>25.423358</td>\n",
       "      <td>31</td>\n",
       "    </tr>\n",
       "    <tr>\n",
       "      <th>3</th>\n",
       "      <td>0</td>\n",
       "      <td>0</td>\n",
       "      <td>20.844365</td>\n",
       "      <td>39</td>\n",
       "    </tr>\n",
       "    <tr>\n",
       "      <th>4</th>\n",
       "      <td>0</td>\n",
       "      <td>0</td>\n",
       "      <td>17.665910</td>\n",
       "      <td>11</td>\n",
       "    </tr>\n",
       "  </tbody>\n",
       "</table>\n",
       "</div>"
      ],
      "text/plain": [
       "   school  treatment    ability  days\n",
       "0       1          1  38.561265    58\n",
       "1       1          1  25.070476    39\n",
       "2       1          1  25.423358    31\n",
       "3       0          0  20.844365    39\n",
       "4       0          0  17.665910    11"
      ]
     },
     "execution_count": 62,
     "metadata": {},
     "output_type": "execute_result"
    }
   ],
   "source": [
    "school = pd.read_csv(r'/Users/yantongli/Desktop/Graduate School/Spring 2022/ECON570/ECON570_A2_Yantong_Li/school_treatment.csv')\n",
    "school.head()"
   ]
  },
  {
   "cell_type": "code",
   "execution_count": 63,
   "id": "d0b10f10",
   "metadata": {},
   "outputs": [
    {
     "data": {
      "text/html": [
       "<table class=\"simpletable\">\n",
       "<caption>OLS Regression Results</caption>\n",
       "<tr>\n",
       "  <th>Dep. Variable:</th>          <td>days</td>       <th>  R-squared:         </th> <td>   0.015</td>\n",
       "</tr>\n",
       "<tr>\n",
       "  <th>Model:</th>                   <td>OLS</td>       <th>  Adj. R-squared:    </th> <td>   0.002</td>\n",
       "</tr>\n",
       "<tr>\n",
       "  <th>Method:</th>             <td>Least Squares</td>  <th>  F-statistic:       </th> <td>   1.176</td>\n",
       "</tr>\n",
       "<tr>\n",
       "  <th>Date:</th>             <td>Thu, 07 Apr 2022</td> <th>  Prob (F-statistic):</th>  <td> 0.282</td> \n",
       "</tr>\n",
       "<tr>\n",
       "  <th>Time:</th>                 <td>17:14:21</td>     <th>  Log-Likelihood:    </th> <td> -305.26</td>\n",
       "</tr>\n",
       "<tr>\n",
       "  <th>No. Observations:</th>      <td>    80</td>      <th>  AIC:               </th> <td>   614.5</td>\n",
       "</tr>\n",
       "<tr>\n",
       "  <th>Df Residuals:</th>          <td>    78</td>      <th>  BIC:               </th> <td>   619.3</td>\n",
       "</tr>\n",
       "<tr>\n",
       "  <th>Df Model:</th>              <td>     1</td>      <th>                     </th>     <td> </td>   \n",
       "</tr>\n",
       "<tr>\n",
       "  <th>Covariance Type:</th>      <td>nonrobust</td>    <th>                     </th>     <td> </td>   \n",
       "</tr>\n",
       "</table>\n",
       "<table class=\"simpletable\">\n",
       "<tr>\n",
       "      <td></td>         <th>coef</th>     <th>std err</th>      <th>t</th>      <th>P>|t|</th>  <th>[0.025</th>    <th>0.975]</th>  \n",
       "</tr>\n",
       "<tr>\n",
       "  <th>Intercept</th> <td>   27.5333</td> <td>    2.032</td> <td>   13.552</td> <td> 0.000</td> <td>   23.489</td> <td>   31.578</td>\n",
       "</tr>\n",
       "<tr>\n",
       "  <th>treatment</th> <td>    2.7867</td> <td>    2.570</td> <td>    1.084</td> <td> 0.282</td> <td>   -2.329</td> <td>    7.903</td>\n",
       "</tr>\n",
       "</table>\n",
       "<table class=\"simpletable\">\n",
       "<tr>\n",
       "  <th>Omnibus:</th>       <td> 0.209</td> <th>  Durbin-Watson:     </th> <td>   1.822</td>\n",
       "</tr>\n",
       "<tr>\n",
       "  <th>Prob(Omnibus):</th> <td> 0.901</td> <th>  Jarque-Bera (JB):  </th> <td>   0.395</td>\n",
       "</tr>\n",
       "<tr>\n",
       "  <th>Skew:</th>          <td> 0.054</td> <th>  Prob(JB):          </th> <td>   0.821</td>\n",
       "</tr>\n",
       "<tr>\n",
       "  <th>Kurtosis:</th>      <td> 2.673</td> <th>  Cond. No.          </th> <td>    3.03</td>\n",
       "</tr>\n",
       "</table><br/><br/>Notes:<br/>[1] Standard Errors assume that the covariance matrix of the errors is correctly specified."
      ],
      "text/plain": [
       "<class 'statsmodels.iolib.summary.Summary'>\n",
       "\"\"\"\n",
       "                            OLS Regression Results                            \n",
       "==============================================================================\n",
       "Dep. Variable:                   days   R-squared:                       0.015\n",
       "Model:                            OLS   Adj. R-squared:                  0.002\n",
       "Method:                 Least Squares   F-statistic:                     1.176\n",
       "Date:                Thu, 07 Apr 2022   Prob (F-statistic):              0.282\n",
       "Time:                        17:14:21   Log-Likelihood:                -305.26\n",
       "No. Observations:                  80   AIC:                             614.5\n",
       "Df Residuals:                      78   BIC:                             619.3\n",
       "Df Model:                           1                                         \n",
       "Covariance Type:            nonrobust                                         \n",
       "==============================================================================\n",
       "                 coef    std err          t      P>|t|      [0.025      0.975]\n",
       "------------------------------------------------------------------------------\n",
       "Intercept     27.5333      2.032     13.552      0.000      23.489      31.578\n",
       "treatment      2.7867      2.570      1.084      0.282      -2.329       7.903\n",
       "==============================================================================\n",
       "Omnibus:                        0.209   Durbin-Watson:                   1.822\n",
       "Prob(Omnibus):                  0.901   Jarque-Bera (JB):                0.395\n",
       "Skew:                           0.054   Prob(JB):                        0.821\n",
       "Kurtosis:                       2.673   Cond. No.                         3.03\n",
       "==============================================================================\n",
       "\n",
       "Notes:\n",
       "[1] Standard Errors assume that the covariance matrix of the errors is correctly specified.\n",
       "\"\"\""
      ]
     },
     "execution_count": 63,
     "metadata": {},
     "output_type": "execute_result"
    }
   ],
   "source": [
    "# run a regression of days on treatment\n",
    "sch_nc = smf.ols('days ~ treatment', data=school).fit()\n",
    "sch_nc.summary()"
   ]
  },
  {
   "cell_type": "markdown",
   "id": "13a1e53d",
   "metadata": {},
   "source": [
    "As we can see, we get counterintuitive results of the treatment effect, where we see the job training program actually\n",
    "increases the days people find a job. This is the problem when we don't include any confounders in the regression"
   ]
  },
  {
   "cell_type": "markdown",
   "id": "b6eef9c1",
   "metadata": {},
   "source": [
    "### b. You do control for the confounder"
   ]
  },
  {
   "cell_type": "markdown",
   "id": "f5328cf2",
   "metadata": {},
   "source": [
    "Now we include ability in our model to see how the treatment effect changes"
   ]
  },
  {
   "cell_type": "code",
   "execution_count": 64,
   "id": "4471ab6e",
   "metadata": {},
   "outputs": [
    {
     "data": {
      "text/html": [
       "<table class=\"simpletable\">\n",
       "<caption>OLS Regression Results</caption>\n",
       "<tr>\n",
       "  <th>Dep. Variable:</th>          <td>days</td>       <th>  R-squared:         </th> <td>   0.559</td>\n",
       "</tr>\n",
       "<tr>\n",
       "  <th>Model:</th>                   <td>OLS</td>       <th>  Adj. R-squared:    </th> <td>   0.548</td>\n",
       "</tr>\n",
       "<tr>\n",
       "  <th>Method:</th>             <td>Least Squares</td>  <th>  F-statistic:       </th> <td>   48.83</td>\n",
       "</tr>\n",
       "<tr>\n",
       "  <th>Date:</th>             <td>Thu, 07 Apr 2022</td> <th>  Prob (F-statistic):</th> <td>2.02e-14</td>\n",
       "</tr>\n",
       "<tr>\n",
       "  <th>Time:</th>                 <td>17:14:26</td>     <th>  Log-Likelihood:    </th> <td> -273.09</td>\n",
       "</tr>\n",
       "<tr>\n",
       "  <th>No. Observations:</th>      <td>    80</td>      <th>  AIC:               </th> <td>   552.2</td>\n",
       "</tr>\n",
       "<tr>\n",
       "  <th>Df Residuals:</th>          <td>    77</td>      <th>  BIC:               </th> <td>   559.3</td>\n",
       "</tr>\n",
       "<tr>\n",
       "  <th>Df Model:</th>              <td>     2</td>      <th>                     </th>     <td> </td>   \n",
       "</tr>\n",
       "<tr>\n",
       "  <th>Covariance Type:</th>      <td>nonrobust</td>    <th>                     </th>     <td> </td>   \n",
       "</tr>\n",
       "</table>\n",
       "<table class=\"simpletable\">\n",
       "<tr>\n",
       "      <td></td>         <th>coef</th>     <th>std err</th>      <th>t</th>      <th>P>|t|</th>  <th>[0.025</th>    <th>0.975]</th>  \n",
       "</tr>\n",
       "<tr>\n",
       "  <th>Intercept</th> <td>    4.4966</td> <td>    2.730</td> <td>    1.647</td> <td> 0.104</td> <td>   -0.940</td> <td>    9.933</td>\n",
       "</tr>\n",
       "<tr>\n",
       "  <th>treatment</th> <td>   -4.2833</td> <td>    1.876</td> <td>   -2.283</td> <td> 0.025</td> <td>   -8.019</td> <td>   -0.548</td>\n",
       "</tr>\n",
       "<tr>\n",
       "  <th>ability</th>   <td>    1.2520</td> <td>    0.128</td> <td>    9.750</td> <td> 0.000</td> <td>    0.996</td> <td>    1.508</td>\n",
       "</tr>\n",
       "</table>\n",
       "<table class=\"simpletable\">\n",
       "<tr>\n",
       "  <th>Omnibus:</th>       <td> 4.061</td> <th>  Durbin-Watson:     </th> <td>   2.190</td>\n",
       "</tr>\n",
       "<tr>\n",
       "  <th>Prob(Omnibus):</th> <td> 0.131</td> <th>  Jarque-Bera (JB):  </th> <td>   3.967</td>\n",
       "</tr>\n",
       "<tr>\n",
       "  <th>Skew:</th>          <td>-0.538</td> <th>  Prob(JB):          </th> <td>   0.138</td>\n",
       "</tr>\n",
       "<tr>\n",
       "  <th>Kurtosis:</th>      <td> 2.823</td> <th>  Cond. No.          </th> <td>    75.3</td>\n",
       "</tr>\n",
       "</table><br/><br/>Notes:<br/>[1] Standard Errors assume that the covariance matrix of the errors is correctly specified."
      ],
      "text/plain": [
       "<class 'statsmodels.iolib.summary.Summary'>\n",
       "\"\"\"\n",
       "                            OLS Regression Results                            \n",
       "==============================================================================\n",
       "Dep. Variable:                   days   R-squared:                       0.559\n",
       "Model:                            OLS   Adj. R-squared:                  0.548\n",
       "Method:                 Least Squares   F-statistic:                     48.83\n",
       "Date:                Thu, 07 Apr 2022   Prob (F-statistic):           2.02e-14\n",
       "Time:                        17:14:26   Log-Likelihood:                -273.09\n",
       "No. Observations:                  80   AIC:                             552.2\n",
       "Df Residuals:                      77   BIC:                             559.3\n",
       "Df Model:                           2                                         \n",
       "Covariance Type:            nonrobust                                         \n",
       "==============================================================================\n",
       "                 coef    std err          t      P>|t|      [0.025      0.975]\n",
       "------------------------------------------------------------------------------\n",
       "Intercept      4.4966      2.730      1.647      0.104      -0.940       9.933\n",
       "treatment     -4.2833      1.876     -2.283      0.025      -8.019      -0.548\n",
       "ability        1.2520      0.128      9.750      0.000       0.996       1.508\n",
       "==============================================================================\n",
       "Omnibus:                        4.061   Durbin-Watson:                   2.190\n",
       "Prob(Omnibus):                  0.131   Jarque-Bera (JB):                3.967\n",
       "Skew:                          -0.538   Prob(JB):                        0.138\n",
       "Kurtosis:                       2.823   Cond. No.                         75.3\n",
       "==============================================================================\n",
       "\n",
       "Notes:\n",
       "[1] Standard Errors assume that the covariance matrix of the errors is correctly specified.\n",
       "\"\"\""
      ]
     },
     "execution_count": 64,
     "metadata": {},
     "output_type": "execute_result"
    }
   ],
   "source": [
    "sch_c = smf.ols('days ~ treatment + ability', data=school).fit()\n",
    "sch_c.summary()"
   ]
  },
  {
   "cell_type": "markdown",
   "id": "8d61e511",
   "metadata": {},
   "source": [
    "Now we see that the treatment effect becomes negative, which is what we would expect"
   ]
  },
  {
   "cell_type": "markdown",
   "id": "29ae63a8",
   "metadata": {},
   "source": [
    "### Running a Monte Carlo simulation:"
   ]
  },
  {
   "cell_type": "code",
   "execution_count": null,
   "id": "629538b2",
   "metadata": {},
   "outputs": [],
   "source": []
  },
  {
   "cell_type": "markdown",
   "id": "621b43d2",
   "metadata": {},
   "source": [
    "### DAG to illustrate the DGP:"
   ]
  },
  {
   "cell_type": "code",
   "execution_count": 69,
   "id": "720a2fb8",
   "metadata": {},
   "outputs": [
    {
     "data": {
      "image/svg+xml": [
       "<?xml version=\"1.0\" encoding=\"UTF-8\" standalone=\"no\"?>\n",
       "<!DOCTYPE svg PUBLIC \"-//W3C//DTD SVG 1.1//EN\"\n",
       " \"http://www.w3.org/Graphics/SVG/1.1/DTD/svg11.dtd\">\n",
       "<!-- Generated by graphviz version 2.50.0 (20211204.2007)\n",
       " -->\n",
       "<!-- Pages: 1 -->\n",
       "<svg width=\"139pt\" height=\"188pt\"\n",
       " viewBox=\"0.00 0.00 138.89 188.00\" xmlns=\"http://www.w3.org/2000/svg\" xmlns:xlink=\"http://www.w3.org/1999/xlink\">\n",
       "<g id=\"graph0\" class=\"graph\" transform=\"scale(1 1) rotate(0) translate(4 184)\">\n",
       "<polygon fill=\"white\" stroke=\"transparent\" points=\"-4,4 -4,-184 134.89,-184 134.89,4 -4,4\"/>\n",
       "<!-- confounder -->\n",
       "<g id=\"node1\" class=\"node\">\n",
       "<title>confounder</title>\n",
       "<ellipse fill=\"none\" stroke=\"black\" cx=\"80.2\" cy=\"-162\" rx=\"50.89\" ry=\"18\"/>\n",
       "<text text-anchor=\"middle\" x=\"80.2\" y=\"-158.3\" font-family=\"Times,serif\" font-size=\"14.00\">confounder</text>\n",
       "</g>\n",
       "<!-- treatment -->\n",
       "<g id=\"node2\" class=\"node\">\n",
       "<title>treatment</title>\n",
       "<ellipse fill=\"none\" stroke=\"black\" cx=\"44.2\" cy=\"-90\" rx=\"44.39\" ry=\"18\"/>\n",
       "<text text-anchor=\"middle\" x=\"44.2\" y=\"-86.3\" font-family=\"Times,serif\" font-size=\"14.00\">treatment</text>\n",
       "</g>\n",
       "<!-- confounder&#45;&gt;treatment -->\n",
       "<g id=\"edge1\" class=\"edge\">\n",
       "<title>confounder&#45;&gt;treatment</title>\n",
       "<path fill=\"none\" stroke=\"black\" d=\"M71.48,-144.05C67.28,-135.89 62.15,-125.91 57.48,-116.82\"/>\n",
       "<polygon fill=\"black\" stroke=\"black\" points=\"60.52,-115.08 52.83,-107.79 54.29,-118.28 60.52,-115.08\"/>\n",
       "</g>\n",
       "<!-- outcome -->\n",
       "<g id=\"node3\" class=\"node\">\n",
       "<title>outcome</title>\n",
       "<ellipse fill=\"none\" stroke=\"black\" cx=\"80.2\" cy=\"-18\" rx=\"41.69\" ry=\"18\"/>\n",
       "<text text-anchor=\"middle\" x=\"80.2\" y=\"-14.3\" font-family=\"Times,serif\" font-size=\"14.00\">outcome</text>\n",
       "</g>\n",
       "<!-- confounder&#45;&gt;outcome -->\n",
       "<g id=\"edge2\" class=\"edge\">\n",
       "<title>confounder&#45;&gt;outcome</title>\n",
       "<path fill=\"none\" stroke=\"black\" d=\"M87.09,-144.14C90.9,-133.88 95.25,-120.41 97.2,-108 99.67,-92.19 99.67,-87.81 97.2,-72 95.82,-63.18 93.22,-53.82 90.46,-45.46\"/>\n",
       "<polygon fill=\"black\" stroke=\"black\" points=\"93.7,-44.13 87.09,-35.86 87.1,-46.45 93.7,-44.13\"/>\n",
       "</g>\n",
       "<!-- treatment&#45;&gt;outcome -->\n",
       "<g id=\"edge3\" class=\"edge\">\n",
       "<title>treatment&#45;&gt;outcome</title>\n",
       "<path fill=\"none\" stroke=\"black\" d=\"M52.91,-72.05C57.11,-63.89 62.24,-53.91 66.91,-44.82\"/>\n",
       "<polygon fill=\"black\" stroke=\"black\" points=\"70.1,-46.28 71.56,-35.79 63.88,-43.08 70.1,-46.28\"/>\n",
       "</g>\n",
       "</g>\n",
       "</svg>\n"
      ],
      "text/plain": [
       "<graphviz.graphs.Digraph at 0x7fbbcc06a250>"
      ]
     },
     "execution_count": 69,
     "metadata": {},
     "output_type": "execute_result"
    }
   ],
   "source": [
    "g = gr.Digraph()\n",
    "\n",
    "g.edge(\"confounder\", \"treatment\")\n",
    "g.edge(\"confounder\", \"outcome\")\n",
    "\n",
    "g.edge(\"treatment\", \"outcome\")\n",
    "\n",
    "g"
   ]
  },
  {
   "cell_type": "markdown",
   "id": "cacab6ba",
   "metadata": {},
   "source": [
    "### real life situation that might be consistent with the DGP\n",
    "For example, if we are running a regression of education on wage, we might get a biased estimate of the education coefficient because there might be confounders that we should have included in the regression such as the person's family wealth, which influences both the person's education level and his or her wage. Usually, wealthier families are more willing to invest in their children's education; and at the same time, wealthier parents can provide their children with better networking opportunities that can potentially be tied to higher wages of their children. Therefore, we need to include confounders like this in the regression in order to extract the sole effect of education on wage."
   ]
  },
  {
   "cell_type": "markdown",
   "id": "592226f4",
   "metadata": {},
   "source": [
    "### 3. Simulate a DGP with selection bias into the treatment (variable in between the path from the treatment to the outcome)\n",
    "#### a. You control for the variable in between the path from cause to effect\n",
    "#### b. You do not control for the variable in between the path from cause to effect"
   ]
  },
  {
   "cell_type": "markdown",
   "id": "6136f55e",
   "metadata": {},
   "source": [
    "Suppose we want to estimate the effect of a website's online advertisement on purchasing behavior. The advertiseent is randomly displayed on the website. We run a regression of purchase on ad(equal to 1 if the customer sees the ad and 0 if not), together with the customer's income level and age. Suppose customers with a higher income tend to purchase more and older people tend to buy less. We then also want to add two more variables \"clicked\" (with 1 indicating that the customer sees the add and clicks on it, 0 indicating that the customer sees the add and doesn't click on it) and \"browse\" (with 1 indicating that the customer browses the product after clicking on the ad, 0 indicating that the customer doesn't browse after clicking). We should see a selection bias when we include \"clicked\" and \"browse\" in our regression because these two variables are in between the path from ad to purchase."
   ]
  },
  {
   "cell_type": "markdown",
   "id": "3feb55e7",
   "metadata": {},
   "source": [
    "### Simulate a DGP: "
   ]
  },
  {
   "cell_type": "code",
   "execution_count": 317,
   "id": "fe2f3e6a",
   "metadata": {},
   "outputs": [],
   "source": [
    "np.random.seed(24)\n",
    "n = 5000\n",
    "ad = np.random.binomial(1, 0.5, n)\n",
    "\n",
    "income_level = np.random.gamma(18, 100, n)\n",
    "age = np.random.normal(30, 5, n)\n",
    "\n",
    "clicked = np.random.normal(5 + 0.001*income_level - 0.01*age, 2)\n",
    "clicked = (clicked > 4).astype(float) * ad\n",
    "\n",
    "browse = np.random.normal(30 +(-0.003*income_level - 0.01*age), 7) * 2 * clicked\n",
    "browse = (browse > 40).astype(float)\n",
    "\n",
    "purchase = (np.random.normal(1000 + 0.3*income_level - 5*age + 15*browse + ad, 75).astype(int) // 10) * 10\n",
    "\n",
    "data = pd.DataFrame(dict(purchase=purchase,\n",
    "                         ad=ad,\n",
    "                         clicked=clicked,\n",
    "                         browse=browse,\n",
    "                         income_level=income_level,\n",
    "                         age=age))\n",
    "\n",
    "data.to_csv(\"purchase.csv\", index=False)"
   ]
  },
  {
   "cell_type": "code",
   "execution_count": 318,
   "id": "22bd7b94",
   "metadata": {
    "scrolled": true
   },
   "outputs": [
    {
     "data": {
      "text/html": [
       "<div>\n",
       "<style scoped>\n",
       "    .dataframe tbody tr th:only-of-type {\n",
       "        vertical-align: middle;\n",
       "    }\n",
       "\n",
       "    .dataframe tbody tr th {\n",
       "        vertical-align: top;\n",
       "    }\n",
       "\n",
       "    .dataframe thead th {\n",
       "        text-align: right;\n",
       "    }\n",
       "</style>\n",
       "<table border=\"1\" class=\"dataframe\">\n",
       "  <thead>\n",
       "    <tr style=\"text-align: right;\">\n",
       "      <th></th>\n",
       "      <th>purchase</th>\n",
       "      <th>ad</th>\n",
       "      <th>clicked</th>\n",
       "      <th>browse</th>\n",
       "      <th>income_level</th>\n",
       "      <th>age</th>\n",
       "    </tr>\n",
       "  </thead>\n",
       "  <tbody>\n",
       "    <tr>\n",
       "      <th>0</th>\n",
       "      <td>1790</td>\n",
       "      <td>1</td>\n",
       "      <td>1.0</td>\n",
       "      <td>0.0</td>\n",
       "      <td>2726.975213</td>\n",
       "      <td>29.614943</td>\n",
       "    </tr>\n",
       "    <tr>\n",
       "      <th>1</th>\n",
       "      <td>1210</td>\n",
       "      <td>1</td>\n",
       "      <td>1.0</td>\n",
       "      <td>1.0</td>\n",
       "      <td>940.901958</td>\n",
       "      <td>34.755737</td>\n",
       "    </tr>\n",
       "    <tr>\n",
       "      <th>2</th>\n",
       "      <td>1540</td>\n",
       "      <td>1</td>\n",
       "      <td>1.0</td>\n",
       "      <td>0.0</td>\n",
       "      <td>1962.053918</td>\n",
       "      <td>20.328495</td>\n",
       "    </tr>\n",
       "    <tr>\n",
       "      <th>3</th>\n",
       "      <td>1410</td>\n",
       "      <td>0</td>\n",
       "      <td>0.0</td>\n",
       "      <td>0.0</td>\n",
       "      <td>2103.144984</td>\n",
       "      <td>28.120141</td>\n",
       "    </tr>\n",
       "    <tr>\n",
       "      <th>4</th>\n",
       "      <td>1360</td>\n",
       "      <td>0</td>\n",
       "      <td>0.0</td>\n",
       "      <td>0.0</td>\n",
       "      <td>1628.324124</td>\n",
       "      <td>28.126554</td>\n",
       "    </tr>\n",
       "  </tbody>\n",
       "</table>\n",
       "</div>"
      ],
      "text/plain": [
       "   purchase  ad  clicked  browse  income_level        age\n",
       "0      1790   1      1.0     0.0   2726.975213  29.614943\n",
       "1      1210   1      1.0     1.0    940.901958  34.755737\n",
       "2      1540   1      1.0     0.0   1962.053918  20.328495\n",
       "3      1410   0      0.0     0.0   2103.144984  28.120141\n",
       "4      1360   0      0.0     0.0   1628.324124  28.126554"
      ]
     },
     "execution_count": 318,
     "metadata": {},
     "output_type": "execute_result"
    }
   ],
   "source": [
    "purchase = pd.read_csv(r'/Users/yantongli/Desktop/Graduate School/Spring 2022/ECON570/ECON570_A2_Yantong_Li/purchase.csv')\n",
    "purchase.head()"
   ]
  },
  {
   "cell_type": "markdown",
   "id": "e4528070",
   "metadata": {},
   "source": [
    "### a. You control for the variable in between the path from cause to effect"
   ]
  },
  {
   "cell_type": "code",
   "execution_count": 325,
   "id": "ccc49784",
   "metadata": {},
   "outputs": [
    {
     "data": {
      "text/html": [
       "<table class=\"simpletable\">\n",
       "<caption>OLS Regression Results</caption>\n",
       "<tr>\n",
       "  <th>Dep. Variable:</th>        <td>purchase</td>     <th>  R-squared:         </th> <td>   0.743</td> \n",
       "</tr>\n",
       "<tr>\n",
       "  <th>Model:</th>                   <td>OLS</td>       <th>  Adj. R-squared:    </th> <td>   0.743</td> \n",
       "</tr>\n",
       "<tr>\n",
       "  <th>Method:</th>             <td>Least Squares</td>  <th>  F-statistic:       </th> <td>   2884.</td> \n",
       "</tr>\n",
       "<tr>\n",
       "  <th>Date:</th>             <td>Fri, 08 Apr 2022</td> <th>  Prob (F-statistic):</th>  <td>  0.00</td>  \n",
       "</tr>\n",
       "<tr>\n",
       "  <th>Time:</th>                 <td>21:29:40</td>     <th>  Log-Likelihood:    </th> <td> -28652.</td> \n",
       "</tr>\n",
       "<tr>\n",
       "  <th>No. Observations:</th>      <td>  5000</td>      <th>  AIC:               </th> <td>5.732e+04</td>\n",
       "</tr>\n",
       "<tr>\n",
       "  <th>Df Residuals:</th>          <td>  4994</td>      <th>  BIC:               </th> <td>5.736e+04</td>\n",
       "</tr>\n",
       "<tr>\n",
       "  <th>Df Model:</th>              <td>     5</td>      <th>                     </th>     <td> </td>    \n",
       "</tr>\n",
       "<tr>\n",
       "  <th>Covariance Type:</th>      <td>nonrobust</td>    <th>                     </th>     <td> </td>    \n",
       "</tr>\n",
       "</table>\n",
       "<table class=\"simpletable\">\n",
       "<tr>\n",
       "        <td></td>          <th>coef</th>     <th>std err</th>      <th>t</th>      <th>P>|t|</th>  <th>[0.025</th>    <th>0.975]</th>  \n",
       "</tr>\n",
       "<tr>\n",
       "  <th>Intercept</th>    <td>  990.8970</td> <td>    7.901</td> <td>  125.408</td> <td> 0.000</td> <td>  975.407</td> <td> 1006.387</td>\n",
       "</tr>\n",
       "<tr>\n",
       "  <th>ad</th>           <td>    3.4357</td> <td>    4.651</td> <td>    0.739</td> <td> 0.460</td> <td>   -5.681</td> <td>   12.553</td>\n",
       "</tr>\n",
       "<tr>\n",
       "  <th>income_level</th> <td>    0.2993</td> <td>    0.003</td> <td>  117.520</td> <td> 0.000</td> <td>    0.294</td> <td>    0.304</td>\n",
       "</tr>\n",
       "<tr>\n",
       "  <th>age</th>          <td>   -4.7616</td> <td>    0.211</td> <td>  -22.617</td> <td> 0.000</td> <td>   -5.174</td> <td>   -4.349</td>\n",
       "</tr>\n",
       "<tr>\n",
       "  <th>clicked</th>      <td>   -3.4490</td> <td>    5.421</td> <td>   -0.636</td> <td> 0.525</td> <td>  -14.077</td> <td>    7.179</td>\n",
       "</tr>\n",
       "<tr>\n",
       "  <th>browse</th>       <td>    8.1394</td> <td>    3.643</td> <td>    2.234</td> <td> 0.026</td> <td>    0.997</td> <td>   15.282</td>\n",
       "</tr>\n",
       "</table>\n",
       "<table class=\"simpletable\">\n",
       "<tr>\n",
       "  <th>Omnibus:</th>       <td> 1.493</td> <th>  Durbin-Watson:     </th> <td>   1.987</td>\n",
       "</tr>\n",
       "<tr>\n",
       "  <th>Prob(Omnibus):</th> <td> 0.474</td> <th>  Jarque-Bera (JB):  </th> <td>   1.500</td>\n",
       "</tr>\n",
       "<tr>\n",
       "  <th>Skew:</th>          <td> 0.042</td> <th>  Prob(JB):          </th> <td>   0.472</td>\n",
       "</tr>\n",
       "<tr>\n",
       "  <th>Kurtosis:</th>      <td> 2.991</td> <th>  Cond. No.          </th> <td>1.40e+04</td>\n",
       "</tr>\n",
       "</table><br/><br/>Notes:<br/>[1] Standard Errors assume that the covariance matrix of the errors is correctly specified.<br/>[2] The condition number is large, 1.4e+04. This might indicate that there are<br/>strong multicollinearity or other numerical problems."
      ],
      "text/plain": [
       "<class 'statsmodels.iolib.summary.Summary'>\n",
       "\"\"\"\n",
       "                            OLS Regression Results                            \n",
       "==============================================================================\n",
       "Dep. Variable:               purchase   R-squared:                       0.743\n",
       "Model:                            OLS   Adj. R-squared:                  0.743\n",
       "Method:                 Least Squares   F-statistic:                     2884.\n",
       "Date:                Fri, 08 Apr 2022   Prob (F-statistic):               0.00\n",
       "Time:                        21:29:40   Log-Likelihood:                -28652.\n",
       "No. Observations:                5000   AIC:                         5.732e+04\n",
       "Df Residuals:                    4994   BIC:                         5.736e+04\n",
       "Df Model:                           5                                         \n",
       "Covariance Type:            nonrobust                                         \n",
       "================================================================================\n",
       "                   coef    std err          t      P>|t|      [0.025      0.975]\n",
       "--------------------------------------------------------------------------------\n",
       "Intercept      990.8970      7.901    125.408      0.000     975.407    1006.387\n",
       "ad               3.4357      4.651      0.739      0.460      -5.681      12.553\n",
       "income_level     0.2993      0.003    117.520      0.000       0.294       0.304\n",
       "age             -4.7616      0.211    -22.617      0.000      -5.174      -4.349\n",
       "clicked         -3.4490      5.421     -0.636      0.525     -14.077       7.179\n",
       "browse           8.1394      3.643      2.234      0.026       0.997      15.282\n",
       "==============================================================================\n",
       "Omnibus:                        1.493   Durbin-Watson:                   1.987\n",
       "Prob(Omnibus):                  0.474   Jarque-Bera (JB):                1.500\n",
       "Skew:                           0.042   Prob(JB):                        0.472\n",
       "Kurtosis:                       2.991   Cond. No.                     1.40e+04\n",
       "==============================================================================\n",
       "\n",
       "Notes:\n",
       "[1] Standard Errors assume that the covariance matrix of the errors is correctly specified.\n",
       "[2] The condition number is large, 1.4e+04. This might indicate that there are\n",
       "strong multicollinearity or other numerical problems.\n",
       "\"\"\""
      ]
     },
     "execution_count": 325,
     "metadata": {},
     "output_type": "execute_result"
    }
   ],
   "source": [
    "ad_1 = smf.ols('purchase ~ ad + income_level + age + clicked + browse', data=data).fit()\n",
    "ad_1.summary()"
   ]
  },
  {
   "cell_type": "markdown",
   "id": "e0a021ab",
   "metadata": {},
   "source": [
    "### b. You do not control for the variable in between the path from cause to effect"
   ]
  },
  {
   "cell_type": "code",
   "execution_count": 326,
   "id": "07d84add",
   "metadata": {
    "scrolled": true
   },
   "outputs": [
    {
     "data": {
      "text/html": [
       "<table class=\"simpletable\">\n",
       "<caption>OLS Regression Results</caption>\n",
       "<tr>\n",
       "  <th>Dep. Variable:</th>        <td>purchase</td>     <th>  R-squared:         </th> <td>   0.743</td> \n",
       "</tr>\n",
       "<tr>\n",
       "  <th>Model:</th>                   <td>OLS</td>       <th>  Adj. R-squared:    </th> <td>   0.742</td> \n",
       "</tr>\n",
       "<tr>\n",
       "  <th>Method:</th>             <td>Least Squares</td>  <th>  F-statistic:       </th> <td>   4802.</td> \n",
       "</tr>\n",
       "<tr>\n",
       "  <th>Date:</th>             <td>Fri, 08 Apr 2022</td> <th>  Prob (F-statistic):</th>  <td>  0.00</td>  \n",
       "</tr>\n",
       "<tr>\n",
       "  <th>Time:</th>                 <td>21:29:43</td>     <th>  Log-Likelihood:    </th> <td> -28655.</td> \n",
       "</tr>\n",
       "<tr>\n",
       "  <th>No. Observations:</th>      <td>  5000</td>      <th>  AIC:               </th> <td>5.732e+04</td>\n",
       "</tr>\n",
       "<tr>\n",
       "  <th>Df Residuals:</th>          <td>  4996</td>      <th>  BIC:               </th> <td>5.734e+04</td>\n",
       "</tr>\n",
       "<tr>\n",
       "  <th>Df Model:</th>              <td>     3</td>      <th>                     </th>     <td> </td>    \n",
       "</tr>\n",
       "<tr>\n",
       "  <th>Covariance Type:</th>      <td>nonrobust</td>    <th>                     </th>     <td> </td>    \n",
       "</tr>\n",
       "</table>\n",
       "<table class=\"simpletable\">\n",
       "<tr>\n",
       "        <td></td>          <th>coef</th>     <th>std err</th>      <th>t</th>      <th>P>|t|</th>  <th>[0.025</th>    <th>0.975]</th>  \n",
       "</tr>\n",
       "<tr>\n",
       "  <th>Intercept</th>    <td>  992.0052</td> <td>    7.869</td> <td>  126.071</td> <td> 0.000</td> <td>  976.579</td> <td> 1007.431</td>\n",
       "</tr>\n",
       "<tr>\n",
       "  <th>ad</th>           <td>    5.6612</td> <td>    2.111</td> <td>    2.681</td> <td> 0.007</td> <td>    1.522</td> <td>    9.800</td>\n",
       "</tr>\n",
       "<tr>\n",
       "  <th>income_level</th> <td>    0.2989</td> <td>    0.003</td> <td>  118.222</td> <td> 0.000</td> <td>    0.294</td> <td>    0.304</td>\n",
       "</tr>\n",
       "<tr>\n",
       "  <th>age</th>          <td>   -4.7737</td> <td>    0.210</td> <td>  -22.678</td> <td> 0.000</td> <td>   -5.186</td> <td>   -4.361</td>\n",
       "</tr>\n",
       "</table>\n",
       "<table class=\"simpletable\">\n",
       "<tr>\n",
       "  <th>Omnibus:</th>       <td> 1.604</td> <th>  Durbin-Watson:     </th> <td>   1.985</td>\n",
       "</tr>\n",
       "<tr>\n",
       "  <th>Prob(Omnibus):</th> <td> 0.448</td> <th>  Jarque-Bera (JB):  </th> <td>   1.617</td>\n",
       "</tr>\n",
       "<tr>\n",
       "  <th>Skew:</th>          <td> 0.044</td> <th>  Prob(JB):          </th> <td>   0.445</td>\n",
       "</tr>\n",
       "<tr>\n",
       "  <th>Kurtosis:</th>      <td> 2.987</td> <th>  Cond. No.          </th> <td>1.37e+04</td>\n",
       "</tr>\n",
       "</table><br/><br/>Notes:<br/>[1] Standard Errors assume that the covariance matrix of the errors is correctly specified.<br/>[2] The condition number is large, 1.37e+04. This might indicate that there are<br/>strong multicollinearity or other numerical problems."
      ],
      "text/plain": [
       "<class 'statsmodels.iolib.summary.Summary'>\n",
       "\"\"\"\n",
       "                            OLS Regression Results                            \n",
       "==============================================================================\n",
       "Dep. Variable:               purchase   R-squared:                       0.743\n",
       "Model:                            OLS   Adj. R-squared:                  0.742\n",
       "Method:                 Least Squares   F-statistic:                     4802.\n",
       "Date:                Fri, 08 Apr 2022   Prob (F-statistic):               0.00\n",
       "Time:                        21:29:43   Log-Likelihood:                -28655.\n",
       "No. Observations:                5000   AIC:                         5.732e+04\n",
       "Df Residuals:                    4996   BIC:                         5.734e+04\n",
       "Df Model:                           3                                         \n",
       "Covariance Type:            nonrobust                                         \n",
       "================================================================================\n",
       "                   coef    std err          t      P>|t|      [0.025      0.975]\n",
       "--------------------------------------------------------------------------------\n",
       "Intercept      992.0052      7.869    126.071      0.000     976.579    1007.431\n",
       "ad               5.6612      2.111      2.681      0.007       1.522       9.800\n",
       "income_level     0.2989      0.003    118.222      0.000       0.294       0.304\n",
       "age             -4.7737      0.210    -22.678      0.000      -5.186      -4.361\n",
       "==============================================================================\n",
       "Omnibus:                        1.604   Durbin-Watson:                   1.985\n",
       "Prob(Omnibus):                  0.448   Jarque-Bera (JB):                1.617\n",
       "Skew:                           0.044   Prob(JB):                        0.445\n",
       "Kurtosis:                       2.987   Cond. No.                     1.37e+04\n",
       "==============================================================================\n",
       "\n",
       "Notes:\n",
       "[1] Standard Errors assume that the covariance matrix of the errors is correctly specified.\n",
       "[2] The condition number is large, 1.37e+04. This might indicate that there are\n",
       "strong multicollinearity or other numerical problems.\n",
       "\"\"\""
      ]
     },
     "execution_count": 326,
     "metadata": {},
     "output_type": "execute_result"
    }
   ],
   "source": [
    "ad_2 = smf.ols('purchase ~ ad + income_level + age', data=data).fit()\n",
    "ad_2.summary()"
   ]
  },
  {
   "cell_type": "markdown",
   "id": "973b082d",
   "metadata": {},
   "source": [
    "We can see that when we do not control for the variable in between the path from cause to effect, the coefficient of ad is significant with a p-value of 0.007; when we control for the variable in between the path from cause to effect, the coefficient of ad is not significant with a p-value of 0.46. This is because when we control for the clicked variable, we create a selection bias into the regression that biases our estimate. People who clicked on the ad and people who don't should be different types of customers in the first place."
   ]
  },
  {
   "cell_type": "markdown",
   "id": "602c8e18",
   "metadata": {},
   "source": [
    "### Running a Monte Carlo simulation:"
   ]
  },
  {
   "cell_type": "code",
   "execution_count": null,
   "id": "4f67da39",
   "metadata": {},
   "outputs": [],
   "source": []
  },
  {
   "cell_type": "markdown",
   "id": "7d2f2478",
   "metadata": {},
   "source": [
    "### DAG to illustrate the DGP:"
   ]
  },
  {
   "cell_type": "code",
   "execution_count": 331,
   "id": "fbd4a5e5",
   "metadata": {},
   "outputs": [
    {
     "data": {
      "image/svg+xml": [
       "<?xml version=\"1.0\" encoding=\"UTF-8\" standalone=\"no\"?>\n",
       "<!DOCTYPE svg PUBLIC \"-//W3C//DTD SVG 1.1//EN\"\n",
       " \"http://www.w3.org/Graphics/SVG/1.1/DTD/svg11.dtd\">\n",
       "<!-- Generated by graphviz version 2.50.0 (20211204.2007)\n",
       " -->\n",
       "<!-- Pages: 1 -->\n",
       "<svg width=\"268pt\" height=\"260pt\"\n",
       " viewBox=\"0.00 0.00 268.00 260.00\" xmlns=\"http://www.w3.org/2000/svg\" xmlns:xlink=\"http://www.w3.org/1999/xlink\">\n",
       "<g id=\"graph0\" class=\"graph\" transform=\"scale(1 1) rotate(0) translate(4 256)\">\n",
       "<polygon fill=\"white\" stroke=\"transparent\" points=\"-4,4 -4,-256 264,-256 264,4 -4,4\"/>\n",
       "<!-- ad -->\n",
       "<g id=\"node1\" class=\"node\">\n",
       "<title>ad</title>\n",
       "<ellipse fill=\"none\" stroke=\"black\" cx=\"27\" cy=\"-234\" rx=\"27\" ry=\"18\"/>\n",
       "<text text-anchor=\"middle\" x=\"27\" y=\"-230.3\" font-family=\"Times,serif\" font-size=\"14.00\">ad</text>\n",
       "</g>\n",
       "<!-- purchase -->\n",
       "<g id=\"node2\" class=\"node\">\n",
       "<title>purchase</title>\n",
       "<ellipse fill=\"none\" stroke=\"black\" cx=\"164\" cy=\"-18\" rx=\"42.49\" ry=\"18\"/>\n",
       "<text text-anchor=\"middle\" x=\"164\" y=\"-14.3\" font-family=\"Times,serif\" font-size=\"14.00\">purchase</text>\n",
       "</g>\n",
       "<!-- ad&#45;&gt;purchase -->\n",
       "<g id=\"edge1\" class=\"edge\">\n",
       "<title>ad&#45;&gt;purchase</title>\n",
       "<path fill=\"none\" stroke=\"black\" d=\"M24.11,-216.01C19.72,-184.34 14.94,-115.55 47,-72 63.44,-49.67 91.52,-36.52 116.05,-28.91\"/>\n",
       "<polygon fill=\"black\" stroke=\"black\" points=\"117.3,-32.2 125.95,-26.07 115.37,-25.47 117.3,-32.2\"/>\n",
       "</g>\n",
       "<!-- clicked -->\n",
       "<g id=\"node3\" class=\"node\">\n",
       "<title>clicked</title>\n",
       "<ellipse fill=\"none\" stroke=\"black\" cx=\"130\" cy=\"-162\" rx=\"36.29\" ry=\"18\"/>\n",
       "<text text-anchor=\"middle\" x=\"130\" y=\"-158.3\" font-family=\"Times,serif\" font-size=\"14.00\">clicked</text>\n",
       "</g>\n",
       "<!-- ad&#45;&gt;clicked -->\n",
       "<g id=\"edge2\" class=\"edge\">\n",
       "<title>ad&#45;&gt;clicked</title>\n",
       "<path fill=\"none\" stroke=\"black\" d=\"M45.41,-220.49C60.83,-210.01 83.1,-194.87 100.93,-182.76\"/>\n",
       "<polygon fill=\"black\" stroke=\"black\" points=\"102.96,-185.61 109.27,-177.09 99.03,-179.82 102.96,-185.61\"/>\n",
       "</g>\n",
       "<!-- browsed -->\n",
       "<g id=\"node4\" class=\"node\">\n",
       "<title>browsed</title>\n",
       "<ellipse fill=\"none\" stroke=\"black\" cx=\"96\" cy=\"-90\" rx=\"40.09\" ry=\"18\"/>\n",
       "<text text-anchor=\"middle\" x=\"96\" y=\"-86.3\" font-family=\"Times,serif\" font-size=\"14.00\">browsed</text>\n",
       "</g>\n",
       "<!-- ad&#45;&gt;browsed -->\n",
       "<g id=\"edge3\" class=\"edge\">\n",
       "<title>ad&#45;&gt;browsed</title>\n",
       "<path fill=\"none\" stroke=\"black\" d=\"M34.92,-216.71C46.75,-192.36 69.16,-146.24 83.3,-117.14\"/>\n",
       "<polygon fill=\"black\" stroke=\"black\" points=\"86.53,-118.5 87.75,-107.98 80.23,-115.44 86.53,-118.5\"/>\n",
       "</g>\n",
       "<!-- clicked&#45;&gt;purchase -->\n",
       "<g id=\"edge4\" class=\"edge\">\n",
       "<title>clicked&#45;&gt;purchase</title>\n",
       "<path fill=\"none\" stroke=\"black\" d=\"M135.15,-143.89C138.19,-133.54 142.01,-120.07 145,-108 150.1,-87.43 155.07,-63.97 158.65,-46.31\"/>\n",
       "<polygon fill=\"black\" stroke=\"black\" points=\"162.16,-46.63 160.69,-36.14 155.29,-45.26 162.16,-46.63\"/>\n",
       "</g>\n",
       "<!-- clicked&#45;&gt;browsed -->\n",
       "<g id=\"edge5\" class=\"edge\">\n",
       "<title>clicked&#45;&gt;browsed</title>\n",
       "<path fill=\"none\" stroke=\"black\" d=\"M121.94,-144.41C117.98,-136.25 113.11,-126.22 108.66,-117.07\"/>\n",
       "<polygon fill=\"black\" stroke=\"black\" points=\"111.75,-115.42 104.24,-107.96 105.46,-118.48 111.75,-115.42\"/>\n",
       "</g>\n",
       "<!-- browsed&#45;&gt;purchase -->\n",
       "<g id=\"edge6\" class=\"edge\">\n",
       "<title>browsed&#45;&gt;purchase</title>\n",
       "<path fill=\"none\" stroke=\"black\" d=\"M111.43,-73.12C120.3,-63.99 131.6,-52.36 141.45,-42.22\"/>\n",
       "<polygon fill=\"black\" stroke=\"black\" points=\"144.17,-44.43 148.63,-34.82 139.15,-39.56 144.17,-44.43\"/>\n",
       "</g>\n",
       "<!-- income_level -->\n",
       "<g id=\"node5\" class=\"node\">\n",
       "<title>income_level</title>\n",
       "<ellipse fill=\"none\" stroke=\"black\" cx=\"130\" cy=\"-234\" rx=\"58.49\" ry=\"18\"/>\n",
       "<text text-anchor=\"middle\" x=\"130\" y=\"-230.3\" font-family=\"Times,serif\" font-size=\"14.00\">income_level</text>\n",
       "</g>\n",
       "<!-- income_level&#45;&gt;purchase -->\n",
       "<g id=\"edge8\" class=\"edge\">\n",
       "<title>income_level&#45;&gt;purchase</title>\n",
       "<path fill=\"none\" stroke=\"black\" d=\"M148.97,-216.92C158.77,-207.34 169.76,-194.28 175,-180 191.47,-135.15 181.12,-78.6 172.37,-45.85\"/>\n",
       "<polygon fill=\"black\" stroke=\"black\" points=\"175.7,-44.77 169.62,-36.1 168.96,-46.67 175.7,-44.77\"/>\n",
       "</g>\n",
       "<!-- income_level&#45;&gt;clicked -->\n",
       "<g id=\"edge9\" class=\"edge\">\n",
       "<title>income_level&#45;&gt;clicked</title>\n",
       "<path fill=\"none\" stroke=\"black\" d=\"M130,-215.7C130,-207.98 130,-198.71 130,-190.11\"/>\n",
       "<polygon fill=\"black\" stroke=\"black\" points=\"133.5,-190.1 130,-180.1 126.5,-190.1 133.5,-190.1\"/>\n",
       "</g>\n",
       "<!-- income_level&#45;&gt;browsed -->\n",
       "<g id=\"edge7\" class=\"edge\">\n",
       "<title>income_level&#45;&gt;browsed</title>\n",
       "<path fill=\"none\" stroke=\"black\" d=\"M111.03,-216.92C101.23,-207.34 90.24,-194.28 85,-180 77.61,-159.87 81.35,-135.64 86.39,-117.55\"/>\n",
       "<polygon fill=\"black\" stroke=\"black\" points=\"89.75,-118.52 89.35,-107.94 83.06,-116.46 89.75,-118.52\"/>\n",
       "</g>\n",
       "<!-- age -->\n",
       "<g id=\"node6\" class=\"node\">\n",
       "<title>age</title>\n",
       "<ellipse fill=\"none\" stroke=\"black\" cx=\"233\" cy=\"-234\" rx=\"27\" ry=\"18\"/>\n",
       "<text text-anchor=\"middle\" x=\"233\" y=\"-230.3\" font-family=\"Times,serif\" font-size=\"14.00\">age</text>\n",
       "</g>\n",
       "<!-- age&#45;&gt;purchase -->\n",
       "<g id=\"edge10\" class=\"edge\">\n",
       "<title>age&#45;&gt;purchase</title>\n",
       "<path fill=\"none\" stroke=\"black\" d=\"M230.49,-216.08C225.71,-186.22 213.98,-122.55 194,-72 190.29,-62.61 185.17,-52.86 180.22,-44.31\"/>\n",
       "<polygon fill=\"black\" stroke=\"black\" points=\"183.13,-42.36 174.98,-35.59 177.13,-45.96 183.13,-42.36\"/>\n",
       "</g>\n",
       "<!-- age&#45;&gt;clicked -->\n",
       "<g id=\"edge11\" class=\"edge\">\n",
       "<title>age&#45;&gt;clicked</title>\n",
       "<path fill=\"none\" stroke=\"black\" d=\"M214.59,-220.49C199.17,-210.01 176.9,-194.87 159.07,-182.76\"/>\n",
       "<polygon fill=\"black\" stroke=\"black\" points=\"160.97,-179.82 150.73,-177.09 157.04,-185.61 160.97,-179.82\"/>\n",
       "</g>\n",
       "<!-- age&#45;&gt;browsed -->\n",
       "<g id=\"edge12\" class=\"edge\">\n",
       "<title>age&#45;&gt;browsed</title>\n",
       "<path fill=\"none\" stroke=\"black\" d=\"M224.87,-216.5C214.94,-197.49 196.76,-166.05 175,-144 161.84,-130.66 144.83,-118.74 129.96,-109.59\"/>\n",
       "<polygon fill=\"black\" stroke=\"black\" points=\"131.42,-106.39 121.04,-104.27 127.83,-112.4 131.42,-106.39\"/>\n",
       "</g>\n",
       "</g>\n",
       "</svg>\n"
      ],
      "text/plain": [
       "<graphviz.graphs.Digraph at 0x7fbbcd6165e0>"
      ]
     },
     "execution_count": 331,
     "metadata": {},
     "output_type": "execute_result"
    }
   ],
   "source": [
    "g = gr.Digraph()\n",
    "\n",
    "g.edge(\"ad\", \"purchase\")\n",
    "g.edge(\"ad\", \"clicked\")\n",
    "g.edge(\"ad\", \"browsed\")\n",
    "g.edge(\"clicked\", \"purchase\")\n",
    "g.edge(\"clicked\", \"browsed\")\n",
    "g.edge(\"browsed\", \"purchase\")\n",
    "\n",
    "\n",
    "g.edge(\"income_level\", \"browsed\")\n",
    "g.edge(\"income_level\", \"purchase\")\n",
    "g.edge(\"income_level\", \"clicked\")\n",
    "g.edge(\"age\", \"purchase\")\n",
    "g.edge(\"age\", \"clicked\")\n",
    "g.edge(\"age\", \"browsed\")\n",
    "\n",
    "\n",
    "g"
   ]
  },
  {
   "cell_type": "markdown",
   "id": "16835410",
   "metadata": {},
   "source": [
    "### real life situation that might be consistent with the DGP\n",
    "As we can see from the illustration above, we find that there is a selection bias present when we control for variables \"clicked\" and \"browse\", which is in between the path from ad to purchase.\n",
    "\n",
    "$\n",
    "E[Y_0|T=0, browsed=0] > E[Y_0|T=1, browsed=0]\n",
    "$\n",
    "\n",
    "$\n",
    "E[Y_0|T=0, browsed=1] > E[Y_0|T=1, browsed=1]\n",
    "$\n",
    "\n",
    "$\n",
    "E[Y_0|T=0, clicked=0] > E[Y_0|T=1, clicked=0]\n",
    "$\n",
    "\n",
    "$\n",
    "E[Y_0|T=0, clicked=1] > E[Y_0|T=1, clicked=1]\n",
    "$\n",
    "\n",
    "From the first equation, we can see that those who didn't see the ad and browsed are better than those who saw the ad and didn't browse. That is because, if the treatment \"ad\" has a positive effect on purchase, those that didn't browse even after having seen the ad tend to buy less compared to those that also didn't browse but also didn't see the ad. As for the second equation, those that browsed even without having seen the ad tend to buy more than those that browsed but saw the ad. This selection bias means  the people who clicked and browsed different in nature from those who didn't."
   ]
  }
 ],
 "metadata": {
  "kernelspec": {
   "display_name": "Python 3 (ipykernel)",
   "language": "python",
   "name": "python3"
  },
  "language_info": {
   "codemirror_mode": {
    "name": "ipython",
    "version": 3
   },
   "file_extension": ".py",
   "mimetype": "text/x-python",
   "name": "python",
   "nbconvert_exporter": "python",
   "pygments_lexer": "ipython3",
   "version": "3.9.7"
  }
 },
 "nbformat": 4,
 "nbformat_minor": 5
}
